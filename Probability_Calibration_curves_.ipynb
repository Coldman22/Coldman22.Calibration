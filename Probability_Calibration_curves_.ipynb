{
  "nbformat": 4,
  "nbformat_minor": 0,
  "metadata": {
    "colab": {
      "name": " Probability Calibration *curves*.ipynb",
      "provenance": [],
      "authorship_tag": "ABX9TyM9xUtDseZfemYMuwtQVcDY",
      "include_colab_link": true
    },
    "kernelspec": {
      "name": "python3",
      "display_name": "Python 3"
    },
    "language_info": {
      "name": "python"
    }
  },
  "cells": [
    {
      "cell_type": "markdown",
      "metadata": {
        "id": "view-in-github",
        "colab_type": "text"
      },
      "source": [
        "<a href=\"https://colab.research.google.com/github/Coldman22/Coldman22.Calibration/blob/main/Probability_Calibration_curves_.ipynb\" target=\"_parent\"><img src=\"https://colab.research.google.com/assets/colab-badge.svg\" alt=\"Open In Colab\"/></a>"
      ]
    },
    {
      "cell_type": "markdown",
      "source": [
        "# Probability Calibration *curves*"
      ],
      "metadata": {
        "id": "bILi7gvv8jQy"
      }
    },
    {
      "cell_type": "markdown",
      "source": [
        "Dataset"
      ],
      "metadata": {
        "id": "AuQ2ljpo8rVy"
      }
    },
    {
      "cell_type": "code",
      "execution_count": 1,
      "metadata": {
        "id": "6mVWoNr98fbv"
      },
      "outputs": [],
      "source": [
        "from sklearn.datasets import make_classification\n",
        "from sklearn.model_selection import train_test_split\n",
        "\n",
        "X, y = make_classification(\n",
        "    n_samples=100_000, n_features=20, n_informative=2, n_redundant=10, random_state=42\n",
        ")\n",
        "\n",
        "X_train, X_test, y_train, y_test = train_test_split(\n",
        "    X, y, test_size=0.99, random_state=42\n",
        ")"
      ]
    },
    {
      "cell_type": "markdown",
      "source": [
        "Calibration curves"
      ],
      "metadata": {
        "id": "G-krGMNb8yAM"
      }
    },
    {
      "cell_type": "code",
      "source": [
        "import matplotlib.pyplot as plt\n",
        "from matplotlib.gridspec import GridSpec\n",
        "\n",
        "from sklearn.calibration import CalibratedClassifierCV, CalibrationDisplay\n",
        "from sklearn.linear_model import LogisticRegression\n",
        "from sklearn.naive_bayes import GaussianNB"
      ],
      "metadata": {
        "id": "m0TmTl8L8uj2"
      },
      "execution_count": 2,
      "outputs": []
    },
    {
      "cell_type": "code",
      "source": [
        "lr = LogisticRegression(C=1.0)\n",
        "gnb = GaussianNB()\n",
        "gnb_isotonic = CalibratedClassifierCV(gnb, cv=2, method=\"isotonic\")\n",
        "gnb_sigmoid = CalibratedClassifierCV(gnb, cv=2, method=\"sigmoid\")"
      ],
      "metadata": {
        "id": "BDMMrYty83r8"
      },
      "execution_count": 3,
      "outputs": []
    },
    {
      "cell_type": "code",
      "source": [
        "clf_list = [\n",
        "    (lr, \"Logistic\"),\n",
        "    (gnb, \"Naive Bayes\"),\n",
        "    (gnb_isotonic, \"Naive Bayes + Isotonic\"),\n",
        "    (gnb_sigmoid, \"Naive Bayes + Sigmoid\"),\n",
        "]"
      ],
      "metadata": {
        "id": "hMagxIom83ud"
      },
      "execution_count": 4,
      "outputs": []
    },
    {
      "cell_type": "code",
      "source": [
        "fig = plt.figure(figsize=(10, 10))\n",
        "gs = GridSpec(4, 2)\n",
        "colors = plt.cm.get_cmap(\"Dark2\")"
      ],
      "metadata": {
        "colab": {
          "base_uri": "https://localhost:8080/",
          "height": 34
        },
        "id": "9XDWcUZU83w6",
        "outputId": "f295e53f-49b6-4f19-a758-a1559c818602"
      },
      "execution_count": 5,
      "outputs": [
        {
          "output_type": "display_data",
          "data": {
            "text/plain": [
              "<Figure size 720x720 with 0 Axes>"
            ]
          },
          "metadata": {}
        }
      ]
    },
    {
      "cell_type": "code",
      "source": [
        "ax_calibration_curve = fig.add_subplot(gs[:2, :2])\n",
        "calibration_displays = {}\n",
        "for i, (clf, name) in enumerate(clf_list):\n",
        "    clf.fit(X_train, y_train)\n",
        "    display = CalibrationDisplay.from_estimator(\n",
        "        clf,\n",
        "        X_test,\n",
        "        y_test,\n",
        "        n_bins=10,\n",
        "        name=name,\n",
        "        ax=ax_calibration_curve,\n",
        "        color=colors(i),\n",
        "    )\n",
        "    calibration_displays[name] = display\n",
        "\n",
        "ax_calibration_curve.grid()\n",
        "ax_calibration_curve.set_title(\"Calibration plots (Naive Bayes)\")"
      ],
      "metadata": {
        "colab": {
          "base_uri": "https://localhost:8080/"
        },
        "id": "68OmPYkA9BaN",
        "outputId": "89873105-bbae-426d-f7f7-aa3455168434"
      },
      "execution_count": 6,
      "outputs": [
        {
          "output_type": "execute_result",
          "data": {
            "text/plain": [
              "Text(0.5, 1.0, 'Calibration plots (Naive Bayes)')"
            ]
          },
          "metadata": {},
          "execution_count": 6
        }
      ]
    },
    {
      "cell_type": "code",
      "source": [
        "# Add histogram\n",
        "grid_positions = [(2, 0), (2, 1), (3, 0), (3, 1)]\n",
        "for i, (_, name) in enumerate(clf_list):\n",
        "    row, col = grid_positions[i]\n",
        "    ax = fig.add_subplot(gs[row, col])\n",
        "\n",
        "    ax.hist(\n",
        "        calibration_displays[name].y_prob,\n",
        "        range=(0, 1),\n",
        "        bins=10,\n",
        "        label=name,\n",
        "        color=colors(i),\n",
        "    )\n",
        "    ax.set(title=name, xlabel=\"Mean predicted probability\", ylabel=\"Count\")\n",
        "\n",
        "plt.tight_layout()\n",
        "plt.show()"
      ],
      "metadata": {
        "colab": {
          "base_uri": "https://localhost:8080/",
          "height": 34
        },
        "id": "hfPEY4rm9BdU",
        "outputId": "854d0d1e-177b-483a-b73d-bb1b594fe5a2"
      },
      "execution_count": 7,
      "outputs": [
        {
          "output_type": "display_data",
          "data": {
            "text/plain": [
              "<Figure size 432x288 with 0 Axes>"
            ]
          },
          "metadata": {}
        }
      ]
    },
    {
      "cell_type": "code",
      "source": [
        "from collections import defaultdict\n",
        "\n",
        "import pandas as pd\n",
        "\n",
        "from sklearn.metrics import (\n",
        "    precision_score,\n",
        "    recall_score,\n",
        "    f1_score,\n",
        "    brier_score_loss,\n",
        "    log_loss,\n",
        "    roc_auc_score,\n",
        ")\n"
      ],
      "metadata": {
        "id": "j6-dEdU08umd"
      },
      "execution_count": 8,
      "outputs": []
    },
    {
      "cell_type": "code",
      "source": [
        "scores = defaultdict(list)\n",
        "for i, (clf, name) in enumerate(clf_list):\n",
        "    clf.fit(X_train, y_train)\n",
        "    y_prob = clf.predict_proba(X_test)\n",
        "    y_pred = clf.predict(X_test)\n",
        "    scores[\"Classifier\"].append(name)\n",
        "\n",
        "    for metric in [brier_score_loss, log_loss]:\n",
        "        score_name = metric.__name__.replace(\"_\", \" \").replace(\"score\", \"\").capitalize()\n",
        "        scores[score_name].append(metric(y_test, y_prob[:, 1]))\n",
        "\n",
        "    for metric in [precision_score, recall_score, f1_score, roc_auc_score]:\n",
        "        score_name = metric.__name__.replace(\"_\", \" \").replace(\"score\", \"\").capitalize()\n",
        "        scores[score_name].append(metric(y_test, y_pred))\n",
        "\n",
        "    score_df = pd.DataFrame(scores).set_index(\"Classifier\")\n",
        "    score_df.round(decimals=3)"
      ],
      "metadata": {
        "id": "bbWiK9qV9N4E"
      },
      "execution_count": 9,
      "outputs": []
    },
    {
      "cell_type": "code",
      "source": [
        "score_df"
      ],
      "metadata": {
        "colab": {
          "base_uri": "https://localhost:8080/",
          "height": 206
        },
        "id": "7Quh0i7-9OFM",
        "outputId": "ae7b632a-9dc8-4b14-8edd-3974327a8db7"
      },
      "execution_count": 10,
      "outputs": [
        {
          "output_type": "execute_result",
          "data": {
            "text/html": [
              "\n",
              "  <div id=\"df-e5791b73-f0f5-4212-acd2-b596cb50ec9f\">\n",
              "    <div class=\"colab-df-container\">\n",
              "      <div>\n",
              "<style scoped>\n",
              "    .dataframe tbody tr th:only-of-type {\n",
              "        vertical-align: middle;\n",
              "    }\n",
              "\n",
              "    .dataframe tbody tr th {\n",
              "        vertical-align: top;\n",
              "    }\n",
              "\n",
              "    .dataframe thead th {\n",
              "        text-align: right;\n",
              "    }\n",
              "</style>\n",
              "<table border=\"1\" class=\"dataframe\">\n",
              "  <thead>\n",
              "    <tr style=\"text-align: right;\">\n",
              "      <th></th>\n",
              "      <th>Brier  loss</th>\n",
              "      <th>Log loss</th>\n",
              "      <th>Precision</th>\n",
              "      <th>Recall</th>\n",
              "      <th>F1</th>\n",
              "      <th>Roc auc</th>\n",
              "    </tr>\n",
              "    <tr>\n",
              "      <th>Classifier</th>\n",
              "      <th></th>\n",
              "      <th></th>\n",
              "      <th></th>\n",
              "      <th></th>\n",
              "      <th></th>\n",
              "      <th></th>\n",
              "    </tr>\n",
              "  </thead>\n",
              "  <tbody>\n",
              "    <tr>\n",
              "      <th>Logistic</th>\n",
              "      <td>0.098921</td>\n",
              "      <td>0.323178</td>\n",
              "      <td>0.872009</td>\n",
              "      <td>0.851408</td>\n",
              "      <td>0.861586</td>\n",
              "      <td>0.863157</td>\n",
              "    </tr>\n",
              "    <tr>\n",
              "      <th>Naive Bayes</th>\n",
              "      <td>0.117608</td>\n",
              "      <td>0.782246</td>\n",
              "      <td>0.857400</td>\n",
              "      <td>0.875941</td>\n",
              "      <td>0.866571</td>\n",
              "      <td>0.865055</td>\n",
              "    </tr>\n",
              "    <tr>\n",
              "      <th>Naive Bayes + Isotonic</th>\n",
              "      <td>0.098332</td>\n",
              "      <td>0.368412</td>\n",
              "      <td>0.883065</td>\n",
              "      <td>0.836224</td>\n",
              "      <td>0.859007</td>\n",
              "      <td>0.862690</td>\n",
              "    </tr>\n",
              "    <tr>\n",
              "      <th>Naive Bayes + Sigmoid</th>\n",
              "      <td>0.108880</td>\n",
              "      <td>0.368896</td>\n",
              "      <td>0.861106</td>\n",
              "      <td>0.871277</td>\n",
              "      <td>0.866161</td>\n",
              "      <td>0.865300</td>\n",
              "    </tr>\n",
              "  </tbody>\n",
              "</table>\n",
              "</div>\n",
              "      <button class=\"colab-df-convert\" onclick=\"convertToInteractive('df-e5791b73-f0f5-4212-acd2-b596cb50ec9f')\"\n",
              "              title=\"Convert this dataframe to an interactive table.\"\n",
              "              style=\"display:none;\">\n",
              "        \n",
              "  <svg xmlns=\"http://www.w3.org/2000/svg\" height=\"24px\"viewBox=\"0 0 24 24\"\n",
              "       width=\"24px\">\n",
              "    <path d=\"M0 0h24v24H0V0z\" fill=\"none\"/>\n",
              "    <path d=\"M18.56 5.44l.94 2.06.94-2.06 2.06-.94-2.06-.94-.94-2.06-.94 2.06-2.06.94zm-11 1L8.5 8.5l.94-2.06 2.06-.94-2.06-.94L8.5 2.5l-.94 2.06-2.06.94zm10 10l.94 2.06.94-2.06 2.06-.94-2.06-.94-.94-2.06-.94 2.06-2.06.94z\"/><path d=\"M17.41 7.96l-1.37-1.37c-.4-.4-.92-.59-1.43-.59-.52 0-1.04.2-1.43.59L10.3 9.45l-7.72 7.72c-.78.78-.78 2.05 0 2.83L4 21.41c.39.39.9.59 1.41.59.51 0 1.02-.2 1.41-.59l7.78-7.78 2.81-2.81c.8-.78.8-2.07 0-2.86zM5.41 20L4 18.59l7.72-7.72 1.47 1.35L5.41 20z\"/>\n",
              "  </svg>\n",
              "      </button>\n",
              "      \n",
              "  <style>\n",
              "    .colab-df-container {\n",
              "      display:flex;\n",
              "      flex-wrap:wrap;\n",
              "      gap: 12px;\n",
              "    }\n",
              "\n",
              "    .colab-df-convert {\n",
              "      background-color: #E8F0FE;\n",
              "      border: none;\n",
              "      border-radius: 50%;\n",
              "      cursor: pointer;\n",
              "      display: none;\n",
              "      fill: #1967D2;\n",
              "      height: 32px;\n",
              "      padding: 0 0 0 0;\n",
              "      width: 32px;\n",
              "    }\n",
              "\n",
              "    .colab-df-convert:hover {\n",
              "      background-color: #E2EBFA;\n",
              "      box-shadow: 0px 1px 2px rgba(60, 64, 67, 0.3), 0px 1px 3px 1px rgba(60, 64, 67, 0.15);\n",
              "      fill: #174EA6;\n",
              "    }\n",
              "\n",
              "    [theme=dark] .colab-df-convert {\n",
              "      background-color: #3B4455;\n",
              "      fill: #D2E3FC;\n",
              "    }\n",
              "\n",
              "    [theme=dark] .colab-df-convert:hover {\n",
              "      background-color: #434B5C;\n",
              "      box-shadow: 0px 1px 3px 1px rgba(0, 0, 0, 0.15);\n",
              "      filter: drop-shadow(0px 1px 2px rgba(0, 0, 0, 0.3));\n",
              "      fill: #FFFFFF;\n",
              "    }\n",
              "  </style>\n",
              "\n",
              "      <script>\n",
              "        const buttonEl =\n",
              "          document.querySelector('#df-e5791b73-f0f5-4212-acd2-b596cb50ec9f button.colab-df-convert');\n",
              "        buttonEl.style.display =\n",
              "          google.colab.kernel.accessAllowed ? 'block' : 'none';\n",
              "\n",
              "        async function convertToInteractive(key) {\n",
              "          const element = document.querySelector('#df-e5791b73-f0f5-4212-acd2-b596cb50ec9f');\n",
              "          const dataTable =\n",
              "            await google.colab.kernel.invokeFunction('convertToInteractive',\n",
              "                                                     [key], {});\n",
              "          if (!dataTable) return;\n",
              "\n",
              "          const docLinkHtml = 'Like what you see? Visit the ' +\n",
              "            '<a target=\"_blank\" href=https://colab.research.google.com/notebooks/data_table.ipynb>data table notebook</a>'\n",
              "            + ' to learn more about interactive tables.';\n",
              "          element.innerHTML = '';\n",
              "          dataTable['output_type'] = 'display_data';\n",
              "          await google.colab.output.renderOutput(dataTable, element);\n",
              "          const docLink = document.createElement('div');\n",
              "          docLink.innerHTML = docLinkHtml;\n",
              "          element.appendChild(docLink);\n",
              "        }\n",
              "      </script>\n",
              "    </div>\n",
              "  </div>\n",
              "  "
            ],
            "text/plain": [
              "                        Brier  loss  Log loss  ...       F1   Roc auc \n",
              "Classifier                                     ...                    \n",
              "Logistic                   0.098921  0.323178  ...  0.861586  0.863157\n",
              "Naive Bayes                0.117608  0.782246  ...  0.866571  0.865055\n",
              "Naive Bayes + Isotonic     0.098332  0.368412  ...  0.859007  0.862690\n",
              "Naive Bayes + Sigmoid      0.108880  0.368896  ...  0.866161  0.865300\n",
              "\n",
              "[4 rows x 6 columns]"
            ]
          },
          "metadata": {},
          "execution_count": 10
        }
      ]
    },
    {
      "cell_type": "code",
      "source": [
        "import numpy as np\n",
        "\n",
        "from sklearn.svm import LinearSVC\n",
        "\n",
        "\n",
        "class NaivelyCalibratedLinearSVC(LinearSVC):\n",
        "    \"\"\"LinearSVC with `predict_proba` method that naively scales\n",
        "    `decision_function` output for binary classification.\"\"\"\n"
      ],
      "metadata": {
        "id": "neN6UGvf9YAe"
      },
      "execution_count": 11,
      "outputs": []
    },
    {
      "cell_type": "code",
      "source": [
        "class NaivelyCalibratedLinearSVC(LinearSVC):\n",
        "    \"\"\"LinearSVC with `predict_proba` method that naively scales\n",
        "    `decision_function` output for binary classification.\"\"\"\n",
        "\n",
        "    def fit(self, X, y):\n",
        "        super().fit(X, y)\n",
        "        df = self.decision_function(X)\n",
        "        self.df_min_ = df.min()\n",
        "        self.df_max_ = df.max()\n",
        "\n",
        "    def predict_proba(self, X):\n",
        "        \"\"\"Min-max scale output of `decision_function` to [0, 1].\"\"\"\n",
        "        df = self.decision_function(X)\n",
        "        calibrated_df = (df - self.df_min_) / (self.df_max_ - self.df_min_)\n",
        "        proba_pos_class = np.clip(calibrated_df, 0, 1)\n",
        "        proba_neg_class = 1 - proba_pos_class\n",
        "        proba = np.c_[proba_neg_class, proba_pos_class]\n",
        "        return proba"
      ],
      "metadata": {
        "id": "0YJNz_Cv9ZkU"
      },
      "execution_count": 12,
      "outputs": []
    },
    {
      "cell_type": "code",
      "source": [
        "lr = LogisticRegression(C=1.0)\n",
        "svc = NaivelyCalibratedLinearSVC(max_iter=10_000)\n",
        "svc_isotonic = CalibratedClassifierCV(svc, cv=2, method=\"isotonic\")\n",
        "svc_sigmoid = CalibratedClassifierCV(svc, cv=2, method=\"sigmoid\")\n",
        "\n",
        "clf_list = [\n",
        "    (lr, \"Logistic\"),\n",
        "    (svc, \"SVC\"),\n",
        "    (svc_isotonic, \"SVC + Isotonic\"),\n",
        "    (svc_sigmoid, \"SVC + Sigmoid\"),\n",
        "]"
      ],
      "metadata": {
        "id": "hq7FdhkF9ZoK"
      },
      "execution_count": 13,
      "outputs": []
    },
    {
      "cell_type": "code",
      "source": [
        "fig = plt.figure(figsize=(10, 10))\n",
        "gs = GridSpec(4, 2)\n",
        "\n",
        "ax_calibration_curve = fig.add_subplot(gs[:2, :2])\n",
        "calibration_displays = {}\n",
        "for i, (clf, name) in enumerate(clf_list):\n",
        "    clf.fit(X_train, y_train)\n",
        "    display = CalibrationDisplay.from_estimator(\n",
        "        clf,\n",
        "        X_test,\n",
        "        y_test,\n",
        "        n_bins=10,\n",
        "        name=name,\n",
        "        ax=ax_calibration_curve,\n",
        "        color=colors(i),\n",
        "    )\n",
        "    calibration_displays[name] = display"
      ],
      "metadata": {
        "colab": {
          "base_uri": "https://localhost:8080/",
          "height": 322
        },
        "id": "bYA_msQT9ikm",
        "outputId": "15362be1-c505-49bd-eff6-b3ad3323412e"
      },
      "execution_count": 14,
      "outputs": [
        {
          "output_type": "display_data",
          "data": {
            "image/png": "[encoded data removed]",
            "text/plain": [
              "<Figure size 720x720 with 1 Axes>"
            ]
          },
          "metadata": {
            "needs_background": "light"
          }
        }
      ]
    },
    {
      "cell_type": "code",
      "source": [
        "ax_calibration_curve.grid()\n",
        "ax_calibration_curve.set_title(\"Calibration plots (SVC)\")"
      ],
      "metadata": {
        "colab": {
          "base_uri": "https://localhost:8080/"
        },
        "id": "IUki4dAe9llT",
        "outputId": "2168de49-d092-4b7f-b4f2-00e1dc8501f4"
      },
      "execution_count": 15,
      "outputs": [
        {
          "output_type": "execute_result",
          "data": {
            "text/plain": [
              "Text(0.5, 1.0, 'Calibration plots (SVC)')"
            ]
          },
          "metadata": {},
          "execution_count": 15
        }
      ]
    },
    {
      "cell_type": "code",
      "source": [
        "# Add histogram\n",
        "grid_positions = [(2, 0), (2, 1), (3, 0), (3, 1)]\n",
        "for i, (_, name) in enumerate(clf_list):\n",
        "    row, col = grid_positions[i]\n",
        "    ax = fig.add_subplot(gs[row, col])\n",
        "\n",
        "    ax.hist(\n",
        "        calibration_displays[name].y_prob,\n",
        "        range=(0, 1),\n",
        "        bins=10,\n",
        "        label=name,\n",
        "        color=colors(i),\n",
        "    )\n",
        "    ax.set(title=name, xlabel=\"Mean predicted probability\", ylabel=\"Count\")\n",
        "\n",
        "plt.tight_layout()\n",
        "plt.show()# Add histogram\n",
        "grid_positions = [(2, 0), (2, 1), (3, 0), (3, 1)]\n",
        "for i, (_, name) in enumerate(clf_list):\n",
        "    row, col = grid_positions[i]\n",
        "    ax = fig.add_subplot(gs[row, col])\n",
        "\n",
        "    ax.hist(\n",
        "        calibration_displays[name].y_prob,\n",
        "        range=(0, 1),\n",
        "        bins=10,\n",
        "        label=name,\n",
        "        color=colors(i),\n",
        "    )\n",
        "    ax.set(title=name, xlabel=\"Mean predicted probability\", ylabel=\"Count\")\n",
        "\n",
        "plt.tight_layout()\n",
        "plt.show()"
      ],
      "metadata": {
        "colab": {
          "base_uri": "https://localhost:8080/",
          "height": 89
        },
        "id": "v3ExRpPm9lxz",
        "outputId": "cd67d440-db8d-43ee-afc0-b8832f882ed7"
      },
      "execution_count": 16,
      "outputs": [
        {
          "output_type": "display_data",
          "data": {
            "text/plain": [
              "<Figure size 432x288 with 0 Axes>"
            ]
          },
          "metadata": {}
        },
        {
          "output_type": "stream",
          "name": "stderr",
          "text": [
            "/usr/local/lib/python3.7/dist-packages/ipykernel_launcher.py:21: MatplotlibDeprecationWarning: Adding an axes using the same arguments as a previous axes currently reuses the earlier instance.  In a future version, a new instance will always be created and returned.  Meanwhile, this warning can be suppressed, and the future behavior ensured, by passing a unique label to each axes instance.\n"
          ]
        },
        {
          "output_type": "display_data",
          "data": {
            "text/plain": [
              "<Figure size 432x288 with 0 Axes>"
            ]
          },
          "metadata": {}
        }
      ]
    },
    {
      "cell_type": "code",
      "source": [
        "scores = defaultdict(list)\n",
        "for i, (clf, name) in enumerate(clf_list):\n",
        "    clf.fit(X_train, y_train)\n",
        "    y_prob = clf.predict_proba(X_test)\n",
        "    y_pred = clf.predict(X_test)\n",
        "    scores[\"Classifier\"].append(name)\n",
        "\n",
        "    for metric in [brier_score_loss, log_loss]:\n",
        "        score_name = metric.__name__.replace(\"_\", \" \").replace(\"score\", \"\").capitalize()\n",
        "        scores[score_name].append(metric(y_test, y_prob[:, 1]))\n",
        "\n",
        "    for metric in [precision_score, recall_score, f1_score, roc_auc_score]:\n",
        "        score_name = metric.__name__.replace(\"_\", \" \").replace(\"score\", \"\").capitalize()\n",
        "        scores[score_name].append(metric(y_test, y_pred))\n",
        "\n",
        "    score_df = pd.DataFrame(scores).set_index(\"Classifier\")\n",
        "    score_df.round(decimals=3)\n",
        "\n",
        "score_df"
      ],
      "metadata": {
        "id": "aMDWKTrJ9zTM",
        "outputId": "54e0b35b-65c6-47cf-8689-ae61ef180ffd",
        "colab": {
          "base_uri": "https://localhost:8080/",
          "height": 206
        }
      },
      "execution_count": 17,
      "outputs": [
        {
          "output_type": "execute_result",
          "data": {
            "text/html": [
              "\n",
              "  <div id=\"df-4255b877-0dbb-4b00-a45c-db021236ee7b\">\n",
              "    <div class=\"colab-df-container\">\n",
              "      <div>\n",
              "<style scoped>\n",
              "    .dataframe tbody tr th:only-of-type {\n",
              "        vertical-align: middle;\n",
              "    }\n",
              "\n",
              "    .dataframe tbody tr th {\n",
              "        vertical-align: top;\n",
              "    }\n",
              "\n",
              "    .dataframe thead th {\n",
              "        text-align: right;\n",
              "    }\n",
              "</style>\n",
              "<table border=\"1\" class=\"dataframe\">\n",
              "  <thead>\n",
              "    <tr style=\"text-align: right;\">\n",
              "      <th></th>\n",
              "      <th>Brier  loss</th>\n",
              "      <th>Log loss</th>\n",
              "      <th>Precision</th>\n",
              "      <th>Recall</th>\n",
              "      <th>F1</th>\n",
              "      <th>Roc auc</th>\n",
              "    </tr>\n",
              "    <tr>\n",
              "      <th>Classifier</th>\n",
              "      <th></th>\n",
              "      <th></th>\n",
              "      <th></th>\n",
              "      <th></th>\n",
              "      <th></th>\n",
              "      <th></th>\n",
              "    </tr>\n",
              "  </thead>\n",
              "  <tbody>\n",
              "    <tr>\n",
              "      <th>Logistic</th>\n",
              "      <td>0.098921</td>\n",
              "      <td>0.323178</td>\n",
              "      <td>0.872009</td>\n",
              "      <td>0.851408</td>\n",
              "      <td>0.861586</td>\n",
              "      <td>0.863157</td>\n",
              "    </tr>\n",
              "    <tr>\n",
              "      <th>SVC</th>\n",
              "      <td>0.144944</td>\n",
              "      <td>0.465647</td>\n",
              "      <td>0.872201</td>\n",
              "      <td>0.851772</td>\n",
              "      <td>0.861865</td>\n",
              "      <td>0.863420</td>\n",
              "    </tr>\n",
              "    <tr>\n",
              "      <th>SVC + Isotonic</th>\n",
              "      <td>0.099827</td>\n",
              "      <td>0.374534</td>\n",
              "      <td>0.853032</td>\n",
              "      <td>0.878041</td>\n",
              "      <td>0.865356</td>\n",
              "      <td>0.863306</td>\n",
              "    </tr>\n",
              "    <tr>\n",
              "      <th>SVC + Sigmoid</th>\n",
              "      <td>0.098760</td>\n",
              "      <td>0.321306</td>\n",
              "      <td>0.873703</td>\n",
              "      <td>0.848723</td>\n",
              "      <td>0.861032</td>\n",
              "      <td>0.862957</td>\n",
              "    </tr>\n",
              "  </tbody>\n",
              "</table>\n",
              "</div>\n",
              "      <button class=\"colab-df-convert\" onclick=\"convertToInteractive('df-4255b877-0dbb-4b00-a45c-db021236ee7b')\"\n",
              "              title=\"Convert this dataframe to an interactive table.\"\n",
              "              style=\"display:none;\">\n",
              "        \n",
              "  <svg xmlns=\"http://www.w3.org/2000/svg\" height=\"24px\"viewBox=\"0 0 24 24\"\n",
              "       width=\"24px\">\n",
              "    <path d=\"M0 0h24v24H0V0z\" fill=\"none\"/>\n",
              "    <path d=\"M18.56 5.44l.94 2.06.94-2.06 2.06-.94-2.06-.94-.94-2.06-.94 2.06-2.06.94zm-11 1L8.5 8.5l.94-2.06 2.06-.94-2.06-.94L8.5 2.5l-.94 2.06-2.06.94zm10 10l.94 2.06.94-2.06 2.06-.94-2.06-.94-.94-2.06-.94 2.06-2.06.94z\"/><path d=\"M17.41 7.96l-1.37-1.37c-.4-.4-.92-.59-1.43-.59-.52 0-1.04.2-1.43.59L10.3 9.45l-7.72 7.72c-.78.78-.78 2.05 0 2.83L4 21.41c.39.39.9.59 1.41.59.51 0 1.02-.2 1.41-.59l7.78-7.78 2.81-2.81c.8-.78.8-2.07 0-2.86zM5.41 20L4 18.59l7.72-7.72 1.47 1.35L5.41 20z\"/>\n",
              "  </svg>\n",
              "      </button>\n",
              "      \n",
              "  <style>\n",
              "    .colab-df-container {\n",
              "      display:flex;\n",
              "      flex-wrap:wrap;\n",
              "      gap: 12px;\n",
              "    }\n",
              "\n",
              "    .colab-df-convert {\n",
              "      background-color: #E8F0FE;\n",
              "      border: none;\n",
              "      border-radius: 50%;\n",
              "      cursor: pointer;\n",
              "      display: none;\n",
              "      fill: #1967D2;\n",
              "      height: 32px;\n",
              "      padding: 0 0 0 0;\n",
              "      width: 32px;\n",
              "    }\n",
              "\n",
              "    .colab-df-convert:hover {\n",
              "      background-color: #E2EBFA;\n",
              "      box-shadow: 0px 1px 2px rgba(60, 64, 67, 0.3), 0px 1px 3px 1px rgba(60, 64, 67, 0.15);\n",
              "      fill: #174EA6;\n",
              "    }\n",
              "\n",
              "    [theme=dark] .colab-df-convert {\n",
              "      background-color: #3B4455;\n",
              "      fill: #D2E3FC;\n",
              "    }\n",
              "\n",
              "    [theme=dark] .colab-df-convert:hover {\n",
              "      background-color: #434B5C;\n",
              "      box-shadow: 0px 1px 3px 1px rgba(0, 0, 0, 0.15);\n",
              "      filter: drop-shadow(0px 1px 2px rgba(0, 0, 0, 0.3));\n",
              "      fill: #FFFFFF;\n",
              "    }\n",
              "  </style>\n",
              "\n",
              "      <script>\n",
              "        const buttonEl =\n",
              "          document.querySelector('#df-4255b877-0dbb-4b00-a45c-db021236ee7b button.colab-df-convert');\n",
              "        buttonEl.style.display =\n",
              "          google.colab.kernel.accessAllowed ? 'block' : 'none';\n",
              "\n",
              "        async function convertToInteractive(key) {\n",
              "          const element = document.querySelector('#df-4255b877-0dbb-4b00-a45c-db021236ee7b');\n",
              "          const dataTable =\n",
              "            await google.colab.kernel.invokeFunction('convertToInteractive',\n",
              "                                                     [key], {});\n",
              "          if (!dataTable) return;\n",
              "\n",
              "          const docLinkHtml = 'Like what you see? Visit the ' +\n",
              "            '<a target=\"_blank\" href=https://colab.research.google.com/notebooks/data_table.ipynb>data table notebook</a>'\n",
              "            + ' to learn more about interactive tables.';\n",
              "          element.innerHTML = '';\n",
              "          dataTable['output_type'] = 'display_data';\n",
              "          await google.colab.output.renderOutput(dataTable, element);\n",
              "          const docLink = document.createElement('div');\n",
              "          docLink.innerHTML = docLinkHtml;\n",
              "          element.appendChild(docLink);\n",
              "        }\n",
              "      </script>\n",
              "    </div>\n",
              "  </div>\n",
              "  "
            ],
            "text/plain": [
              "                Brier  loss  Log loss  Precision    Recall        F1   Roc auc \n",
              "Classifier                                                                     \n",
              "Logistic           0.098921  0.323178    0.872009  0.851408  0.861586  0.863157\n",
              "SVC                0.144944  0.465647    0.872201  0.851772  0.861865  0.863420\n",
              "SVC + Isotonic     0.099827  0.374534    0.853032  0.878041  0.865356  0.863306\n",
              "SVC + Sigmoid      0.098760  0.321306    0.873703  0.848723  0.861032  0.862957"
            ]
          },
          "metadata": {},
          "execution_count": 17
        }
      ]
    }
  ]
}